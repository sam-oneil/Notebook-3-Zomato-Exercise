{
  "cells": [
    {
      "cell_type": "markdown",
      "source": [
        "Samantha Erica O'Neil\n",
        "12208566\n",
        "DATA100 S17"
      ],
      "metadata": {
        "id": "a_GtQOrcbGDw"
      },
      "id": "a_GtQOrcbGDw"
    },
    {
      "cell_type": "markdown",
      "id": "174e376c",
      "metadata": {
        "id": "174e376c"
      },
      "source": [
        "# Zomato Exercise"
      ]
    },
    {
      "cell_type": "markdown",
      "id": "2d84fdf3",
      "metadata": {
        "id": "2d84fdf3"
      },
      "source": [
        "Zomato is a restaurant aggregator website. The platform provides information, menus and user-reviews of restaurants as well as food delivery options from partner restaurants in select cities. You have been provided 3 datasets:\n",
        "\n",
        "- zomato.csv contains restaurant information like average_cost_for_two, cuisines\n",
        "- location.csv contains location of the restaurants like address, city, locality & etc\n",
        "- ratings.csv contains aggregate rating for each restaurant\n",
        "\n",
        "The different files are connected using the `id` columns which can be found in the different files. The id column is a unique identifier to represent a restaurant. You can use this to **merge** the different files."
      ]
    },
    {
      "cell_type": "code",
      "execution_count": null,
      "id": "5337de5f",
      "metadata": {
        "id": "5337de5f"
      },
      "outputs": [],
      "source": [
        "import pandas as pd\n",
        "import numpy as np"
      ]
    },
    {
      "cell_type": "markdown",
      "id": "77605fbc",
      "metadata": {
        "id": "77605fbc"
      },
      "source": [
        "1. Merge the zomato, location & ratings file into a signle dataframe and store it to the `merged_df` variable **(3pts)**"
      ]
    },
    {
      "cell_type": "code",
      "execution_count": 24,
      "id": "ddbd0bb1",
      "metadata": {
        "id": "ddbd0bb1",
        "colab": {
          "base_uri": "https://localhost:8080/"
        },
        "outputId": "d05f59af-062f-4da4-c2cb-15d81a57b78e"
      },
      "outputs": [
        {
          "output_type": "stream",
          "name": "stdout",
          "text": [
            "            id  average_cost_for_two book_url  \\\n",
            "0      6316125                  1000      NaN   \n",
            "1     18409457                  1300      NaN   \n",
            "2      6307689                  1600      NaN   \n",
            "3     18581637                  1000      NaN   \n",
            "4      6315438                  3000      NaN   \n",
            "...        ...                   ...      ...   \n",
            "6825  18635649                  1000      NaN   \n",
            "6826   6318581                   400      NaN   \n",
            "6827   6318578                   450      NaN   \n",
            "6828   6309612                  1000      NaN   \n",
            "6829   6318582                   600      NaN   \n",
            "\n",
            "                                        cuisines currency  \\\n",
            "0                                Japanese, Ramen        P   \n",
            "1                      Korean, Grill, Korean BBQ        P   \n",
            "2                             American, Filipino        P   \n",
            "3                                         Korean        P   \n",
            "4     Seafood, American, Mediterranean, Japanese        P   \n",
            "...                                          ...      ...   \n",
            "6825                              Deli, Filipino        P   \n",
            "6826                                   Fast Food        P   \n",
            "6827                            Bakery, Filipino        P   \n",
            "6828                           American, Italian        P   \n",
            "6829                            Pizza, Fast Food        P   \n",
            "\n",
            "                          deeplink  \\\n",
            "0      zomato://restaurant/6316125   \n",
            "1     zomato://restaurant/18409457   \n",
            "2      zomato://restaurant/6307689   \n",
            "3     zomato://restaurant/18581637   \n",
            "4      zomato://restaurant/6315438   \n",
            "...                            ...   \n",
            "6825  zomato://restaurant/18635649   \n",
            "6826   zomato://restaurant/6318581   \n",
            "6827   zomato://restaurant/6318578   \n",
            "6828   zomato://restaurant/6309612   \n",
            "6829   zomato://restaurant/6318582   \n",
            "\n",
            "                                             events_url  \\\n",
            "0     https://www.zomato.com/manila/mendokoro-ramenb...   \n",
            "1     https://www.zomato.com/manila/soban-k-town-gri...   \n",
            "2     https://www.zomato.com/manila/filling-station-...   \n",
            "3     https://www.zomato.com/manila/romantic-baboy-t...   \n",
            "4     https://www.zomato.com/manila/niu-by-vikings-b...   \n",
            "...                                                 ...   \n",
            "6825  https://www.zomato.com/manila/trader-juans-fil...   \n",
            "6826  https://www.zomato.com/manila/jollibee-north-c...   \n",
            "6827  https://www.zomato.com/manila/goldilocks-north...   \n",
            "6828  https://www.zomato.com/manila/red-buffalo-wing...   \n",
            "6829  https://www.zomato.com/manila/greenwich-north-...   \n",
            "\n",
            "                                         featured_image  has_online_delivery  \\\n",
            "0     https://b.zmtcdn.com/data/reviews_photos/971/2...                    0   \n",
            "1     https://b.zmtcdn.com/data/res_imagery/18290970...                    0   \n",
            "2     https://b.zmtcdn.com/data/pictures/9/6307689/b...                    0   \n",
            "3     https://b.zmtcdn.com/data/reviews_photos/cc1/a...                    0   \n",
            "4     https://b.zmtcdn.com/data/pictures/chains/8/63...                    0   \n",
            "...                                                 ...                  ...   \n",
            "6825                                                NaN                    0   \n",
            "6826  http://b.zmtcdn.com/data/pictures/chains/0/630...                    0   \n",
            "6827  https://b.zmtcdn.com/data/res_imagery/6300003_...                    0   \n",
            "6828  https://b.zmtcdn.com/data/res_imagery/6309612_...                    0   \n",
            "6829  https://b.zmtcdn.com/data/pictures/chains/2/63...                    0   \n",
            "\n",
            "      has_table_booking  ...  votes  \\\n",
            "0                     0  ...   1394   \n",
            "1                     0  ...    602   \n",
            "2                     0  ...    563   \n",
            "3                     0  ...    413   \n",
            "4                     0  ...    960   \n",
            "...                 ...  ...    ...   \n",
            "6825                  0  ...      6   \n",
            "6826                  0  ...      5   \n",
            "6827                  0  ...      1   \n",
            "6828                  0  ...     96   \n",
            "6829                  0  ...      2   \n",
            "\n",
            "                                                address             city  \\\n",
            "0     V. Corporate Center, Soliman Street, Salcedo V...      Makati City   \n",
            "1     Level 3, Greenbelt 3, Ayala Center, Greenbelt,...      Makati City   \n",
            "2     5012 P. Burgos Street, Poblacion, Makati City ...      Makati City   \n",
            "3     CKB Centre, Tomas Morato Avenue Corner Scout R...      Quezon City   \n",
            "4     Sixth Floor, SM Aura Premier, C5 Road Corner 2...      Taguig City   \n",
            "...                                                 ...              ...   \n",
            "6825   Westgate Center, Filinvest City, Muntinlupa City  Muntinlupa City   \n",
            "6826  Zabarte Town Center, Zabarte Corner Camarin Ro...    Caloocan City   \n",
            "6827  Zabarte Town Center, Zabarte Corner Camarin Ro...    Caloocan City   \n",
            "6828  Greenhills Town Center, Granada Street, Valenc...      Quezon City   \n",
            "6829  Ground Floor, Zabarte Town Center, Zabarte Cor...    Caloocan City   \n",
            "\n",
            "      city_id  country_id   latitude  \\\n",
            "0          63         162  14.560313   \n",
            "1          63         162  14.552137   \n",
            "2          63         162  14.563144   \n",
            "3          63         162  14.633713   \n",
            "4          63         162  14.546236   \n",
            "...       ...         ...        ...   \n",
            "6825       63         162  14.422261   \n",
            "6826       63         162  14.756424   \n",
            "6827       63         162  14.756406   \n",
            "6828       63         162  14.610628   \n",
            "6829       63         162  14.756382   \n",
            "\n",
            "                                               locality  \\\n",
            "0                                       Salcedo Village   \n",
            "1                 Greenbelt 3, San Lorenzo, Makati City   \n",
            "2                                             Poblacion   \n",
            "3                                          Tomas Morato   \n",
            "4     SM Aura Premier, Bonifacio Global City, Taguig...   \n",
            "...                                                 ...   \n",
            "6825    Westgate Center, Filinvest City, Mutinlupa City   \n",
            "6826  Zabarte Town Center, North Caloocan, Caloocan ...   \n",
            "6827  Zabarte Town Center, North Caloocan, Caloocan ...   \n",
            "6828     Greenhills Town Center, Valencia, Quezon City    \n",
            "6829  Zabarte Town Center, North Caloocan, Caloocan ...   \n",
            "\n",
            "                                       locality_verbose   longitude  zipcode  \n",
            "0                          Salcedo Village, Makati City  121.024638      NaN  \n",
            "1     Greenbelt 3, San Lorenzo, Makati City, Makati ...  121.021325      NaN  \n",
            "2                                Poblacion, Makati City  121.029800   1210.0  \n",
            "3                             Tomas Morato, Quezon City  121.035026      NaN  \n",
            "4     SM Aura Premier, Bonifacio Global City, Taguig...  121.054365      NaN  \n",
            "...                                                 ...         ...      ...  \n",
            "6825  Westgate Center, Filinvest City, Mutinlupa Cit...  121.033175      NaN  \n",
            "6826  Zabarte Town Center, North Caloocan, Caloocan ...  121.043329      NaN  \n",
            "6827  Zabarte Town Center, North Caloocan, Caloocan ...  121.043498      NaN  \n",
            "6828  Greenhills Town Center, Valencia, Quezon City ...  121.037031      NaN  \n",
            "6829  Zabarte Town Center, North Caloocan, Caloocan ...  121.043452      NaN  \n",
            "\n",
            "[6830 rows x 35 columns]\n"
          ]
        }
      ],
      "source": [
        "zomato = pd.read_csv('zomato.csv')\n",
        "ratings = pd.read_csv('ratings.csv')\n",
        "location = pd.read_csv('location.csv')\n",
        "merged_df = pd.merge(zomato, ratings, on='id')\n",
        "merged_df = pd.merge(merged_df, location, on='id')\n",
        "\n",
        "print(merged_df)"
      ]
    },
    {
      "cell_type": "code",
      "execution_count": 27,
      "id": "b2a86a44",
      "metadata": {
        "id": "b2a86a44",
        "colab": {
          "base_uri": "https://localhost:8080/"
        },
        "outputId": "cf8a0b87-c546-44a8-c1f6-ab9cdd749ab2"
      },
      "outputs": [
        {
          "output_type": "stream",
          "name": "stdout",
          "text": [
            "            id  average_cost_for_two book_url  \\\n",
            "0      6316125                  1000      NaN   \n",
            "1     18409457                  1300      NaN   \n",
            "2      6307689                  1600      NaN   \n",
            "3     18581637                  1000      NaN   \n",
            "4      6315438                  3000      NaN   \n",
            "...        ...                   ...      ...   \n",
            "6825  18635649                  1000      NaN   \n",
            "6826   6318581                   400      NaN   \n",
            "6827   6318578                   450      NaN   \n",
            "6828   6309612                  1000      NaN   \n",
            "6829   6318582                   600      NaN   \n",
            "\n",
            "                                        cuisines currency  \\\n",
            "0                                Japanese, Ramen        P   \n",
            "1                      Korean, Grill, Korean BBQ        P   \n",
            "2                             American, Filipino        P   \n",
            "3                                         Korean        P   \n",
            "4     Seafood, American, Mediterranean, Japanese        P   \n",
            "...                                          ...      ...   \n",
            "6825                              Deli, Filipino        P   \n",
            "6826                                   Fast Food        P   \n",
            "6827                            Bakery, Filipino        P   \n",
            "6828                           American, Italian        P   \n",
            "6829                            Pizza, Fast Food        P   \n",
            "\n",
            "                          deeplink  \\\n",
            "0      zomato://restaurant/6316125   \n",
            "1     zomato://restaurant/18409457   \n",
            "2      zomato://restaurant/6307689   \n",
            "3     zomato://restaurant/18581637   \n",
            "4      zomato://restaurant/6315438   \n",
            "...                            ...   \n",
            "6825  zomato://restaurant/18635649   \n",
            "6826   zomato://restaurant/6318581   \n",
            "6827   zomato://restaurant/6318578   \n",
            "6828   zomato://restaurant/6309612   \n",
            "6829   zomato://restaurant/6318582   \n",
            "\n",
            "                                             events_url  \\\n",
            "0     https://www.zomato.com/manila/mendokoro-ramenb...   \n",
            "1     https://www.zomato.com/manila/soban-k-town-gri...   \n",
            "2     https://www.zomato.com/manila/filling-station-...   \n",
            "3     https://www.zomato.com/manila/romantic-baboy-t...   \n",
            "4     https://www.zomato.com/manila/niu-by-vikings-b...   \n",
            "...                                                 ...   \n",
            "6825  https://www.zomato.com/manila/trader-juans-fil...   \n",
            "6826  https://www.zomato.com/manila/jollibee-north-c...   \n",
            "6827  https://www.zomato.com/manila/goldilocks-north...   \n",
            "6828  https://www.zomato.com/manila/red-buffalo-wing...   \n",
            "6829  https://www.zomato.com/manila/greenwich-north-...   \n",
            "\n",
            "                                         featured_image  has_online_delivery  \\\n",
            "0     https://b.zmtcdn.com/data/reviews_photos/971/2...                    0   \n",
            "1     https://b.zmtcdn.com/data/res_imagery/18290970...                    0   \n",
            "2     https://b.zmtcdn.com/data/pictures/9/6307689/b...                    0   \n",
            "3     https://b.zmtcdn.com/data/reviews_photos/cc1/a...                    0   \n",
            "4     https://b.zmtcdn.com/data/pictures/chains/8/63...                    0   \n",
            "...                                                 ...                  ...   \n",
            "6825                                                NaN                    0   \n",
            "6826  http://b.zmtcdn.com/data/pictures/chains/0/630...                    0   \n",
            "6827  https://b.zmtcdn.com/data/res_imagery/6300003_...                    0   \n",
            "6828  https://b.zmtcdn.com/data/res_imagery/6309612_...                    0   \n",
            "6829  https://b.zmtcdn.com/data/pictures/chains/2/63...                    0   \n",
            "\n",
            "      has_table_booking  ...  votes  \\\n",
            "0                     0  ...   1394   \n",
            "1                     0  ...    602   \n",
            "2                     0  ...    563   \n",
            "3                     0  ...    413   \n",
            "4                     0  ...    960   \n",
            "...                 ...  ...    ...   \n",
            "6825                  0  ...      6   \n",
            "6826                  0  ...      5   \n",
            "6827                  0  ...      1   \n",
            "6828                  0  ...     96   \n",
            "6829                  0  ...      2   \n",
            "\n",
            "                                                address             city  \\\n",
            "0     V. Corporate Center, Soliman Street, Salcedo V...      Makati City   \n",
            "1     Level 3, Greenbelt 3, Ayala Center, Greenbelt,...      Makati City   \n",
            "2     5012 P. Burgos Street, Poblacion, Makati City ...      Makati City   \n",
            "3     CKB Centre, Tomas Morato Avenue Corner Scout R...      Quezon City   \n",
            "4     Sixth Floor, SM Aura Premier, C5 Road Corner 2...      Taguig City   \n",
            "...                                                 ...              ...   \n",
            "6825   Westgate Center, Filinvest City, Muntinlupa City  Muntinlupa City   \n",
            "6826  Zabarte Town Center, Zabarte Corner Camarin Ro...    Caloocan City   \n",
            "6827  Zabarte Town Center, Zabarte Corner Camarin Ro...    Caloocan City   \n",
            "6828  Greenhills Town Center, Granada Street, Valenc...      Quezon City   \n",
            "6829  Ground Floor, Zabarte Town Center, Zabarte Cor...    Caloocan City   \n",
            "\n",
            "      city_id  country_id   latitude  \\\n",
            "0          63         162  14.560313   \n",
            "1          63         162  14.552137   \n",
            "2          63         162  14.563144   \n",
            "3          63         162  14.633713   \n",
            "4          63         162  14.546236   \n",
            "...       ...         ...        ...   \n",
            "6825       63         162  14.422261   \n",
            "6826       63         162  14.756424   \n",
            "6827       63         162  14.756406   \n",
            "6828       63         162  14.610628   \n",
            "6829       63         162  14.756382   \n",
            "\n",
            "                                               locality  \\\n",
            "0                                       Salcedo Village   \n",
            "1                 Greenbelt 3, San Lorenzo, Makati City   \n",
            "2                                             Poblacion   \n",
            "3                                          Tomas Morato   \n",
            "4     SM Aura Premier, Bonifacio Global City, Taguig...   \n",
            "...                                                 ...   \n",
            "6825    Westgate Center, Filinvest City, Mutinlupa City   \n",
            "6826  Zabarte Town Center, North Caloocan, Caloocan ...   \n",
            "6827  Zabarte Town Center, North Caloocan, Caloocan ...   \n",
            "6828     Greenhills Town Center, Valencia, Quezon City    \n",
            "6829  Zabarte Town Center, North Caloocan, Caloocan ...   \n",
            "\n",
            "                                       locality_verbose   longitude  zipcode  \n",
            "0                          Salcedo Village, Makati City  121.024638      NaN  \n",
            "1     Greenbelt 3, San Lorenzo, Makati City, Makati ...  121.021325      NaN  \n",
            "2                                Poblacion, Makati City  121.029800   1210.0  \n",
            "3                             Tomas Morato, Quezon City  121.035026      NaN  \n",
            "4     SM Aura Premier, Bonifacio Global City, Taguig...  121.054365      NaN  \n",
            "...                                                 ...         ...      ...  \n",
            "6825  Westgate Center, Filinvest City, Mutinlupa Cit...  121.033175      NaN  \n",
            "6826  Zabarte Town Center, North Caloocan, Caloocan ...  121.043329      NaN  \n",
            "6827  Zabarte Town Center, North Caloocan, Caloocan ...  121.043498      NaN  \n",
            "6828  Greenhills Town Center, Valencia, Quezon City ...  121.037031      NaN  \n",
            "6829  Zabarte Town Center, North Caloocan, Caloocan ...  121.043452      NaN  \n",
            "\n",
            "[6830 rows x 35 columns]\n",
            "Index(['id', 'average_cost_for_two', 'book_url', 'cuisines', 'currency',\n",
            "       'deeplink', 'events_url', 'featured_image', 'has_online_delivery',\n",
            "       'has_table_booking', 'include_bogo_offers', 'is_book_form_web_view',\n",
            "       'is_delivering_now', 'is_table_reservation_supported',\n",
            "       'is_zomato_book_res', 'menu_url', 'mezzo_provider', 'name',\n",
            "       'photos_url', 'price_range', 'thumb', 'url', 'aggregate_rating',\n",
            "       'rating_color', 'rating_text', 'votes', 'address', 'city', 'city_id',\n",
            "       'country_id', 'latitude', 'locality', 'locality_verbose', 'longitude',\n",
            "       'zipcode'],\n",
            "      dtype='object')\n"
          ]
        }
      ],
      "source": [
        "assert (6830, 35)==merged_df.shape\n",
        "\n",
        "cols = ['id', 'address', 'city', 'city_id', 'country_id', 'latitude',\n",
        "       'locality', 'locality_verbose', 'longitude', 'zipcode',\n",
        "       'aggregate_rating', 'rating_color', 'rating_text', 'votes',\n",
        "       'average_cost_for_two', 'book_url', 'cuisines', 'currency', 'deeplink',\n",
        "       'events_url', 'featured_image', 'has_online_delivery',\n",
        "       'has_table_booking', 'include_bogo_offers', 'is_book_form_web_view',\n",
        "       'is_delivering_now', 'is_table_reservation_supported',\n",
        "       'is_zomato_book_res', 'menu_url', 'mezzo_provider', 'name',\n",
        "       'photos_url', 'price_range', 'thumb', 'url']\n",
        "\n",
        "assert sorted(merged_df.columns) == sorted(cols)\n",
        "print(merged_df)"
      ]
    },
    {
      "cell_type": "markdown",
      "id": "02223abe",
      "metadata": {
        "id": "02223abe"
      },
      "source": [
        "2. Create a function that returns the average aggregate rating for each city. Expected returned value is a Series datatype which contains name of city as index and average aggregate rating as value. **(2pts)**"
      ]
    },
    {
      "cell_type": "code",
      "execution_count": 14,
      "id": "bd7d8f34",
      "metadata": {
        "id": "bd7d8f34"
      },
      "outputs": [],
      "source": [
        "def exercise_2(merged_df):\n",
        "  average_ratings = merged_df.groupby('city')['aggregate_rating'].mean()\n",
        "  return average_ratings"
      ]
    },
    {
      "cell_type": "code",
      "execution_count": 15,
      "id": "10e5b4c1",
      "metadata": {
        "id": "10e5b4c1"
      },
      "outputs": [],
      "source": [
        "res_series = exercise_2(merged_df)\n",
        "assert True == np.isclose(3.302075, res_series[res_series.index == 'Pasay City'],\n",
        "                          rtol=1e-05, atol=1e-08, equal_nan=False)[0]\n",
        "assert True == np.isclose(1.890741, res_series[res_series.index == 'Valenzuela City'],\n",
        "                          rtol=1e-05, atol=1e-08, equal_nan=False)[0]\n",
        "assert True == np.isclose(1.558333, res_series[res_series.index == 'Malabon City'],\n",
        "                          rtol=1e-05, atol=1e-08, equal_nan=False)[0]"
      ]
    },
    {
      "cell_type": "markdown",
      "id": "5db591ac",
      "metadata": {
        "id": "5db591ac"
      },
      "source": [
        "3. Using the apply function of pandas convert the rating_text to a numeric equivalent. You are to introduce a new column in merged_df called `rating_numeric` which is based on the value from rating_text: **(3pts)**\n",
        "\n",
        "Excellent = 5 <br>\n",
        "Very Good = 4 <br>\n",
        "Good = 3 <br>\n",
        "Average = 2 <br>\n",
        "Poor = 1 <br>\n",
        "Not rated = 0 <br>"
      ]
    },
    {
      "cell_type": "code",
      "execution_count": 16,
      "id": "41293771",
      "metadata": {
        "id": "41293771",
        "colab": {
          "base_uri": "https://localhost:8080/"
        },
        "outputId": "827f78db-d04d-4add-b1db-5691841abc0d"
      },
      "outputs": [
        {
          "output_type": "stream",
          "name": "stdout",
          "text": [
            "     rating_text  rating_numeric\n",
            "0      Excellent               5\n",
            "1      Excellent               5\n",
            "2      Very Good               4\n",
            "3      Very Good               4\n",
            "4      Excellent               5\n",
            "...          ...             ...\n",
            "6825     Average               2\n",
            "6826     Average               2\n",
            "6827   Not rated               0\n",
            "6828        Good               3\n",
            "6829   Not rated               0\n",
            "\n",
            "[6830 rows x 2 columns]\n"
          ]
        }
      ],
      "source": [
        "rating_mapping = {\n",
        "    'Excellent': 5,\n",
        "    'Very Good': 4,\n",
        "    'Good': 3,\n",
        "    'Average': 2,\n",
        "    'Poor': 1\n",
        "}\n",
        "\n",
        "merged_df['rating_numeric'] = merged_df['rating_text'].apply(lambda x: rating_mapping.get(x, 0))\n",
        "print(merged_df[['rating_text', 'rating_numeric']])"
      ]
    },
    {
      "cell_type": "code",
      "execution_count": 17,
      "id": "c62df922",
      "metadata": {
        "id": "c62df922"
      },
      "outputs": [],
      "source": [
        "assert 868 == merged_df[merged_df.rating_numeric == 0].shape[0]\n",
        "assert True == ('rating_numeric' in merged_df.columns)"
      ]
    },
    {
      "cell_type": "markdown",
      "id": "97ec4197",
      "metadata": {
        "id": "97ec4197"
      },
      "source": [
        "4. Create a function which filters the merged dataframe to only contain rows coming in from a specific city. Expected returned value is a dataframe **(2pts)**"
      ]
    },
    {
      "cell_type": "code",
      "execution_count": 18,
      "id": "9773b18e",
      "metadata": {
        "id": "9773b18e"
      },
      "outputs": [],
      "source": [
        "def exercise_4(merged_df, city):\n",
        "  filtered_df = merged_df[merged_df['city'] == city]\n",
        "  return filtered_df"
      ]
    },
    {
      "cell_type": "code",
      "execution_count": 19,
      "id": "1ca29a81",
      "metadata": {
        "id": "1ca29a81"
      },
      "outputs": [],
      "source": [
        "\n",
        "assert 'Makati City' == exercise_4(merged_df, 'Makati City').city.unique()[0]\n",
        "assert (976, 36) == exercise_4(merged_df, 'Makati City').shape\n",
        "\n",
        "assert 'Mandaluyong City' == exercise_4(merged_df, 'Mandaluyong City').city.unique()[0]\n",
        "assert (443, 36) == exercise_4(merged_df, 'Mandaluyong City').shape\n",
        "\n",
        "assert (0, 36) == exercise_4(merged_df, 'Quezon  City').shape"
      ]
    },
    {
      "cell_type": "markdown",
      "id": "ca7bf3c1",
      "metadata": {
        "id": "ca7bf3c1"
      },
      "source": [
        "5. Create a function to filter the dataframe to only contain certain columns passed in the function. Expected returned value is a dataframe **(1pt)**"
      ]
    },
    {
      "cell_type": "code",
      "execution_count": 20,
      "id": "59787577",
      "metadata": {
        "id": "59787577"
      },
      "outputs": [],
      "source": [
        "def exercise_5(merged_df, cols_to_filter):\n",
        "  filtered_df = merged_df[cols_to_filter]\n",
        "  return filtered_df"
      ]
    },
    {
      "cell_type": "code",
      "execution_count": 21,
      "id": "da27c054",
      "metadata": {
        "id": "da27c054"
      },
      "outputs": [],
      "source": [
        "cols = ['name', 'cuisines', 'city', 'aggregate_rating']\n",
        "assert sorted(cols) == sorted(exercise_5(merged_df, cols).columns)\n",
        "assert (6830, 4) == exercise_5(merged_df, cols).shape\n",
        "\n",
        "cols = ['average_cost_for_two', 'book_url', 'cuisines', 'currency', 'deeplink',\n",
        "       'events_url', 'featured_image', 'has_online_delivery',\n",
        "       'has_table_booking', 'include_bogo_offers', 'is_book_form_web_view']\n",
        "assert sorted(cols) == sorted(exercise_5(merged_df, cols).columns)\n",
        "assert (6830, 11) == exercise_5(merged_df, cols).shape\n"
      ]
    },
    {
      "cell_type": "markdown",
      "id": "d69c7e2e",
      "metadata": {
        "id": "d69c7e2e"
      },
      "source": [
        "6.  What is the most common restaurant name in the dataset? **(2pts)** Write down your answer and show code used to come up with the answer."
      ]
    },
    {
      "cell_type": "code",
      "execution_count": 28,
      "id": "cf9cdab1",
      "metadata": {
        "id": "cf9cdab1",
        "colab": {
          "base_uri": "https://localhost:8080/"
        },
        "outputId": "c0b8abe1-24c8-4caa-966a-f9b62c14335a"
      },
      "outputs": [
        {
          "output_type": "stream",
          "name": "stdout",
          "text": [
            "Starbucks\n"
          ]
        }
      ],
      "source": [
        "most_common = merged_df['name'].value_counts().idxmax()\n",
        "print(most_common)"
      ]
    },
    {
      "cell_type": "markdown",
      "source": [
        "Based on the code result, the most common restaurant name in the dataset is **Starbucks**."
      ],
      "metadata": {
        "id": "G5BKmFAdYseN"
      },
      "id": "G5BKmFAdYseN"
    },
    {
      "cell_type": "markdown",
      "id": "7675b4b1",
      "metadata": {
        "id": "7675b4b1"
      },
      "source": [
        "7. Which restaurant has the most expensive average cost for two? **(2pts)** Write down your answer and show code used to come up with the answer."
      ]
    },
    {
      "cell_type": "code",
      "execution_count": 30,
      "id": "b447b440",
      "metadata": {
        "id": "b447b440",
        "colab": {
          "base_uri": "https://localhost:8080/"
        },
        "outputId": "c5bd74a1-4952-4529-f5d4-7e44f4bd6f29"
      },
      "outputs": [
        {
          "output_type": "stream",
          "name": "stdout",
          "text": [
            "The Tasting Room\n"
          ]
        }
      ],
      "source": [
        "most_expensive = merged_df['average_cost_for_two'].max()\n",
        "most_expensive_restaurant = merged_df.loc[merged_df['average_cost_for_two'] == most_expensive, 'name'].values[0]\n",
        "print(most_expensive_restaurant)"
      ]
    },
    {
      "cell_type": "markdown",
      "source": [
        "First I decided to compute the value of the most expensive cost for two, then I matched the value to a name of a restaurant. The restaurant with the most expensive cost for two is **The Tasting Room**"
      ],
      "metadata": {
        "id": "_YDnfpdBZNgo"
      },
      "id": "_YDnfpdBZNgo"
    },
    {
      "cell_type": "markdown",
      "id": "af873fb7",
      "metadata": {
        "id": "af873fb7"
      },
      "source": [
        "8. How many restaurants do not have a zipcode? **(1pt)** Write down your answer and show code used to come up with the answer."
      ]
    },
    {
      "cell_type": "code",
      "execution_count": 31,
      "id": "43f1234a",
      "metadata": {
        "id": "43f1234a",
        "colab": {
          "base_uri": "https://localhost:8080/"
        },
        "outputId": "0587a05d-5e4a-45b3-cc43-499ebde49e96"
      },
      "outputs": [
        {
          "output_type": "stream",
          "name": "stdout",
          "text": [
            "6713\n"
          ]
        }
      ],
      "source": [
        "no_zipcode = merged_df['zipcode'].isnull().sum()\n",
        "print(no_zipcode)"
      ]
    },
    {
      "cell_type": "markdown",
      "source": [
        "There are **6713** restaurants with no zip code"
      ],
      "metadata": {
        "id": "Ug7fOPeIZzqV"
      },
      "id": "Ug7fOPeIZzqV"
    },
    {
      "cell_type": "markdown",
      "id": "9347ac03",
      "metadata": {
        "id": "9347ac03"
      },
      "source": [
        "9. How many restaurants in the dataset allow online delivery? **(1pt)** Write down your answer and show code used to come up with the answer."
      ]
    },
    {
      "cell_type": "code",
      "execution_count": 32,
      "id": "24b62212",
      "metadata": {
        "id": "24b62212",
        "colab": {
          "base_uri": "https://localhost:8080/"
        },
        "outputId": "defe7fc4-1d9b-41bd-d87a-a91beb99dfd7"
      },
      "outputs": [
        {
          "output_type": "stream",
          "name": "stdout",
          "text": [
            "0\n"
          ]
        }
      ],
      "source": [
        "online_delivery = (merged_df['has_online_delivery'] == 1).sum()\n",
        "print(online_delivery)"
      ]
    },
    {
      "cell_type": "markdown",
      "source": [
        "There are no restaurants with online delivery."
      ],
      "metadata": {
        "id": "pSdBrLkLaVfi"
      },
      "id": "pSdBrLkLaVfi"
    },
    {
      "cell_type": "markdown",
      "id": "7f2c7aa3",
      "metadata": {
        "id": "7f2c7aa3"
      },
      "source": [
        "10. Which locatlity has more expensive food? Poblacion or Salcedo Village? **(3pts)** Write down your answer and show code used to come up with the answer.\n"
      ]
    },
    {
      "cell_type": "code",
      "execution_count": 34,
      "id": "8fb7ce16",
      "metadata": {
        "id": "8fb7ce16",
        "colab": {
          "base_uri": "https://localhost:8080/"
        },
        "outputId": "8932de56-6ea3-4625-f786-879e3e6b1987"
      },
      "outputs": [
        {
          "output_type": "stream",
          "name": "stdout",
          "text": [
            "Poblacion: 898.2142857142857\n",
            "Salcedo Village: 989.1025641025641\n"
          ]
        }
      ],
      "source": [
        "poblacion_cost = merged_df[merged_df['locality'] == 'Poblacion']['average_cost_for_two'].mean()\n",
        "salcedo_cost = merged_df[merged_df['locality'] == 'Salcedo Village']['average_cost_for_two'].mean()\n",
        "print(\"Poblacion: \" + str(poblacion_cost))\n",
        "print(\"Salcedo Village: \" + str(salcedo_cost))"
      ]
    },
    {
      "cell_type": "markdown",
      "source": [
        "The locality with the more expensive food, based on the average cost for two is **Salcedo Village with the mean being 989.10**."
      ],
      "metadata": {
        "id": "Z7F6TkkCa8oI"
      },
      "id": "Z7F6TkkCa8oI"
    }
  ],
  "metadata": {
    "kernelspec": {
      "display_name": "Python 3",
      "language": "python",
      "name": "python3"
    },
    "language_info": {
      "codemirror_mode": {
        "name": "ipython",
        "version": 3
      },
      "file_extension": ".py",
      "mimetype": "text/x-python",
      "name": "python",
      "nbconvert_exporter": "python",
      "pygments_lexer": "ipython3",
      "version": "3.7.7"
    },
    "colab": {
      "provenance": []
    }
  },
  "nbformat": 4,
  "nbformat_minor": 5
}
